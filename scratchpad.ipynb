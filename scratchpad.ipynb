{
 "cells": [
  {
   "cell_type": "code",
   "execution_count": 6,
   "metadata": {},
   "outputs": [
    {
     "name": "stdout",
     "output_type": "stream",
     "text": [
      "Password requirements:\n",
      "- Should contain at least one lowercase letter\n",
      "- Should contain at least one uppercase letter\n",
      "- Should contain at least one digit 0-9\n",
      "- Should contain at least one special character !#$%&()*+,-.:;<=>?@[]^_`{|}~\n",
      "5[J`e;+L9<wV0X\n"
     ]
    }
   ],
   "source": [
    "from password_generator import main\n",
    "\n",
    "main()"
   ]
  }
 ],
 "metadata": {
  "kernelspec": {
   "display_name": "Python 3",
   "language": "python",
   "name": "python3"
  },
  "language_info": {
   "codemirror_mode": {
    "name": "ipython",
    "version": 3
   },
   "file_extension": ".py",
   "mimetype": "text/x-python",
   "name": "python",
   "nbconvert_exporter": "python",
   "pygments_lexer": "ipython3",
   "version": "3.10.11"
  }
 },
 "nbformat": 4,
 "nbformat_minor": 2
}
